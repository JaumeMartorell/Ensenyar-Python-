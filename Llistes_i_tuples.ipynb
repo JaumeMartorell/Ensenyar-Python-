{
  "nbformat": 4,
  "nbformat_minor": 0,
  "metadata": {
    "colab": {
      "provenance": [],
      "collapsed_sections": [
        "MNDgz68a9jhW",
        "j-P0DNNh97Rd",
        "0HssN8Vn-44l",
        "tQ1t1vv_AEM-",
        "6YgOtGsq_9eW",
        "ZQvLXV2JAKZu",
        "GyfDlb21eCu8",
        "_QEBE0LHzTE_"
      ]
    },
    "kernelspec": {
      "name": "python3",
      "display_name": "Python 3"
    },
    "language_info": {
      "name": "python"
    }
  },
  "cells": [
    {
      "cell_type": "markdown",
      "source": [
        "## **Definició i utilitat**"
      ],
      "metadata": {
        "id": "MNDgz68a9jhW"
      }
    },
    {
      "cell_type": "markdown",
      "source": [
        "Les llistes a Python són un tipus de dada que permet emmagatzemar variables de qualsevol tipus. Són mutables i dinàmiques, la qual cosa és la principal diferència amb les tuples."
      ],
      "metadata": {
        "id": "4YUDceIT9oxV"
      }
    },
    {
      "cell_type": "markdown",
      "source": [
        "## **Creació de llistes**"
      ],
      "metadata": {
        "id": "j-P0DNNh97Rd"
      }
    },
    {
      "cell_type": "code",
      "source": [
        "llista = [1, 2, 3, 4]\n",
        "print(type(llista))"
      ],
      "metadata": {
        "id": "8FTNyfHe-NDd",
        "colab": {
          "base_uri": "https://localhost:8080/"
        },
        "outputId": "5d3a4095-6872-429c-8707-2bf3020f955a"
      },
      "execution_count": null,
      "outputs": [
        {
          "output_type": "stream",
          "name": "stdout",
          "text": [
            "<class 'list'>\n"
          ]
        }
      ]
    },
    {
      "cell_type": "code",
      "source": [
        "llista = [1, \"Hola\", 3.67, [1, 2, 3]]\n",
        "print(llista)"
      ],
      "metadata": {
        "id": "vg7kjrMp-ThF",
        "colab": {
          "base_uri": "https://localhost:8080/"
        },
        "outputId": "09396c76-ad8d-446f-add0-8c2497be796c"
      },
      "execution_count": null,
      "outputs": [
        {
          "output_type": "stream",
          "name": "stdout",
          "text": [
            "[1, 'Hola', 3.67, [1, 2, 3]]\n"
          ]
        }
      ]
    },
    {
      "cell_type": "markdown",
      "source": [
        "Algunes propietats de les llistes:\n",
        "\n",
        "\n",
        "\n",
        "*   Són ordenades, mantenen l'ordre en què han estat definides\n",
        "*   Poden estar formades per qualsevol tipus de dada\n",
        "\n",
        "*   Es poden ficar una dins de l'altra.\n",
        "*   Són mutables, ja que els elements poden ser modificats.\n",
        "*   Són dinàmiques, ja que es poden afegir o eliminar elements (no tenen una longitud predefinida).\n",
        "\n",
        "\n",
        "\n",
        "\n",
        "\n",
        "\n"
      ],
      "metadata": {
        "id": "J9ev2IQB-Vbl"
      }
    },
    {
      "cell_type": "markdown",
      "source": [
        "## **Indexació de llistes**"
      ],
      "metadata": {
        "id": "0HssN8Vn-44l"
      }
    },
    {
      "cell_type": "markdown",
      "source": [
        "La forma més comú d'accedir a les llistes és mitjançant l'índex de la posició que ocupa cada element. Cal tenir en compte que el primer element correspon a la posició [0]"
      ],
      "metadata": {
        "id": "IZZ-l6-X-8Zu"
      }
    },
    {
      "cell_type": "code",
      "source": [
        "llista = [1, 2, 3, 4]"
      ],
      "metadata": {
        "id": "yigW--fWqjLK"
      },
      "execution_count": null,
      "outputs": []
    },
    {
      "cell_type": "code",
      "source": [
        "a = llista[0]"
      ],
      "metadata": {
        "id": "DhmptORw_WUg"
      },
      "execution_count": null,
      "outputs": []
    },
    {
      "cell_type": "code",
      "source": [
        "print(llista[0])"
      ],
      "metadata": {
        "id": "DLvGaG2H_dT1"
      },
      "execution_count": null,
      "outputs": []
    },
    {
      "cell_type": "markdown",
      "source": [
        "Què passa si introduïm un índex que no es troba dins la llista?"
      ],
      "metadata": {
        "id": "VWN0V-nr_mlr"
      }
    },
    {
      "cell_type": "code",
      "source": [
        "print(llista[8])"
      ],
      "metadata": {
        "id": "Hup2S16q_gQD",
        "colab": {
          "base_uri": "https://localhost:8080/",
          "height": 175
        },
        "outputId": "9d0d72c2-5710-40b8-8850-e01b0b105b85"
      },
      "execution_count": null,
      "outputs": [
        {
          "output_type": "error",
          "ename": "IndexError",
          "evalue": "list index out of range",
          "traceback": [
            "\u001b[0;31m---------------------------------------------------------------------------\u001b[0m",
            "\u001b[0;31mIndexError\u001b[0m                                Traceback (most recent call last)",
            "\u001b[0;32m<ipython-input-12-9c9665f7ebdc>\u001b[0m in \u001b[0;36m<cell line: 1>\u001b[0;34m()\u001b[0m\n\u001b[0;32m----> 1\u001b[0;31m \u001b[0mprint\u001b[0m\u001b[0;34m(\u001b[0m\u001b[0mllista\u001b[0m\u001b[0;34m[\u001b[0m\u001b[0;36m8\u001b[0m\u001b[0;34m]\u001b[0m\u001b[0;34m)\u001b[0m\u001b[0;34m\u001b[0m\u001b[0;34m\u001b[0m\u001b[0m\n\u001b[0m",
            "\u001b[0;31mIndexError\u001b[0m: list index out of range"
          ]
        }
      ]
    },
    {
      "cell_type": "markdown",
      "source": [
        "Podem accedir als elements de la llista começant a comptar des del darrere; si ho feim així, cal tenir en compte que el primer element començant des del darrere és el [-1]"
      ],
      "metadata": {
        "id": "4d0ikY5G_tUF"
      }
    },
    {
      "cell_type": "code",
      "source": [
        "print(llista[-1])"
      ],
      "metadata": {
        "id": "ry0Tb8pv_zjG"
      },
      "execution_count": null,
      "outputs": []
    },
    {
      "cell_type": "markdown",
      "source": [
        "Podem seleccionar un interval d'elements que es troben dins la llista mitjançant la sintaxi [a:b] (els elements de la llista des de la posició a fins la posició b.\n",
        "\n",
        "Què passa si executam el següent codi?"
      ],
      "metadata": {
        "id": "pFTYfqNQAQ2O"
      }
    },
    {
      "cell_type": "code",
      "source": [
        "print(llista[1:3])"
      ],
      "metadata": {
        "id": "aEbTM7LBAeQv"
      },
      "execution_count": null,
      "outputs": []
    },
    {
      "cell_type": "markdown",
      "source": [
        "Si deixam una de les posicions a o b buides es seleccionen tots els elements de la llista fins al final"
      ],
      "metadata": {
        "id": "hZWKFEAnAxE2"
      }
    },
    {
      "cell_type": "code",
      "source": [
        "print(llista[1:])"
      ],
      "metadata": {
        "id": "cgIZ5ztkA6_2"
      },
      "execution_count": null,
      "outputs": []
    },
    {
      "cell_type": "code",
      "source": [
        "print(llista[:4])"
      ],
      "metadata": {
        "id": "DrSM9zhhA7LW"
      },
      "execution_count": null,
      "outputs": []
    },
    {
      "cell_type": "markdown",
      "source": [
        "## **Mètodes i utilitats**\n"
      ],
      "metadata": {
        "id": "tQ1t1vv_AEM-"
      }
    },
    {
      "cell_type": "code",
      "source": [
        "a = [3,5,6,9]\n",
        "b = [2,2,2]"
      ],
      "metadata": {
        "id": "inskx97ZpvNS"
      },
      "execution_count": null,
      "outputs": []
    },
    {
      "cell_type": "markdown",
      "source": [
        "**Per afegir elements:**\n"
      ],
      "metadata": {
        "id": "7Rqne3hZEdAX"
      }
    },
    {
      "cell_type": "markdown",
      "source": [
        "Mètode **.append (obj)**\n",
        "\n",
        "Afegeix un element al final de la llista"
      ],
      "metadata": {
        "id": "PWpjLwvCB6N3"
      }
    },
    {
      "cell_type": "code",
      "source": [
        "a.append(12)\n",
        "print(a)"
      ],
      "metadata": {
        "id": "aX5BJCIKCQHv",
        "colab": {
          "base_uri": "https://localhost:8080/"
        },
        "outputId": "df0611c8-69f8-4b13-fdfa-a1adf9201067"
      },
      "execution_count": null,
      "outputs": [
        {
          "output_type": "stream",
          "name": "stdout",
          "text": [
            "[3, 5, 6, 9, 12]\n"
          ]
        }
      ]
    },
    {
      "cell_type": "code",
      "source": [
        "a.append(b)\n",
        "print(a)"
      ],
      "metadata": {
        "colab": {
          "base_uri": "https://localhost:8080/"
        },
        "id": "fXgMJVifp_1Q",
        "outputId": "4a8eb682-3b4d-4fd1-eb6d-2b16da3df936"
      },
      "execution_count": null,
      "outputs": [
        {
          "output_type": "stream",
          "name": "stdout",
          "text": [
            "[3, 5, 6, 9, [2, 2, 2]]\n"
          ]
        }
      ]
    },
    {
      "cell_type": "markdown",
      "source": [
        "Mètode **.extend (iterable)**\n",
        "\n",
        "Afegeix una llista sencera a la llista que tenim"
      ],
      "metadata": {
        "id": "l5v0ftEaCBSm"
      }
    },
    {
      "cell_type": "code",
      "source": [
        "a.extend(b)\n",
        "print(a)"
      ],
      "metadata": {
        "colab": {
          "base_uri": "https://localhost:8080/"
        },
        "id": "EyyuQknlqUnx",
        "outputId": "909a51ec-c22f-4df4-bee2-fb170e351016"
      },
      "execution_count": null,
      "outputs": [
        {
          "output_type": "stream",
          "name": "stdout",
          "text": [
            "[3, 5, 6, 9, 2, 2, 2]\n"
          ]
        }
      ]
    },
    {
      "cell_type": "markdown",
      "source": [
        "Mètode **.insert (index, obj)**\n",
        "\n",
        "Afegeix un element a una posició determinada"
      ],
      "metadata": {
        "id": "kvkss-bLCeKv"
      }
    },
    {
      "cell_type": "code",
      "source": [
        "a.insert(2,[4,5,6,7])\n",
        "print(a)"
      ],
      "metadata": {
        "colab": {
          "base_uri": "https://localhost:8080/"
        },
        "id": "4o-AwxIpsRml",
        "outputId": "b8f5432f-13b8-4a74-84c7-80db711eadfa"
      },
      "execution_count": null,
      "outputs": [
        {
          "output_type": "stream",
          "name": "stdout",
          "text": [
            "[3, 5, [4, 5, 6, 7], 6, 9]\n"
          ]
        }
      ]
    },
    {
      "cell_type": "markdown",
      "source": [
        "**Per eliminar elements:**"
      ],
      "metadata": {
        "id": "R3ITCrOHEowP"
      }
    },
    {
      "cell_type": "code",
      "source": [
        "a = [3,5,6,9]\n",
        "b = [2,2,2]"
      ],
      "metadata": {
        "id": "5PKd0o5yhSln"
      },
      "execution_count": null,
      "outputs": []
    },
    {
      "cell_type": "markdown",
      "source": [
        "Mètode **.remove (obj)**\n",
        "\n",
        "Elimina un element de la llista"
      ],
      "metadata": {
        "id": "Ct0_9QQzC8Sv"
      }
    },
    {
      "cell_type": "markdown",
      "source": [
        "Mètode **.pop (opcional: index=3)**\n",
        "\n",
        "Elimina l'últim element de la llista per defecte. Si afegim un índex, també permet eliminar un element ubicat en un índex concret de la llista."
      ],
      "metadata": {
        "id": "vPjikpHUDbdf"
      }
    },
    {
      "cell_type": "markdown",
      "source": [
        "**Utilitats:**"
      ],
      "metadata": {
        "id": "EYlzFtKyErnH"
      }
    },
    {
      "cell_type": "code",
      "source": [
        "a = [3,5,6,9,1,2]\n",
        "b = [2,2,2]"
      ],
      "metadata": {
        "id": "dkA1YybahW3u"
      },
      "execution_count": null,
      "outputs": []
    },
    {
      "cell_type": "markdown",
      "source": [
        "Mètode **.reverse ()**\n",
        "\n",
        "Inverteix l'ordre dels elements de la llista"
      ],
      "metadata": {
        "id": "fAQE3kBZD0Ma"
      }
    },
    {
      "cell_type": "code",
      "source": [
        "a.reverse()\n"
      ],
      "metadata": {
        "id": "qspcX-kChYem"
      },
      "execution_count": null,
      "outputs": []
    },
    {
      "cell_type": "markdown",
      "source": [
        "Mètode **.sort (opcional: reverse=True)**\n",
        "\n",
        "Ordena de menor a major els elements d'una llista. Si afegim l'opció reverse = True permet ordenar de major a menor"
      ],
      "metadata": {
        "id": "k8oIiz3gD7Rf"
      }
    },
    {
      "cell_type": "code",
      "source": [
        "a.sort(reverse=True)\n",
        "print(a)"
      ],
      "metadata": {
        "colab": {
          "base_uri": "https://localhost:8080/"
        },
        "id": "C_Sh5UlghjPn",
        "outputId": "61c29c15-b7b7-479d-81e4-ae619f44a64e"
      },
      "execution_count": null,
      "outputs": [
        {
          "output_type": "stream",
          "name": "stdout",
          "text": [
            "[9, 6, 5, 3, 2, 1]\n"
          ]
        }
      ]
    },
    {
      "cell_type": "markdown",
      "source": [
        "Mètode **.count (element)**\n",
        "\n",
        "Compta el nombre de vegades que apareix un element"
      ],
      "metadata": {
        "id": "QMk716jDlEex"
      }
    },
    {
      "cell_type": "code",
      "source": [
        "llista = [1,2,3,4,5,6,1,2,3,4,5,6]\n",
        "\n",
        "print(llista.count(3))"
      ],
      "metadata": {
        "colab": {
          "base_uri": "https://localhost:8080/"
        },
        "id": "bVoM3zB9lRxV",
        "outputId": "75e6d14f-af74-4824-a935-1e91caf77c47"
      },
      "execution_count": null,
      "outputs": [
        {
          "output_type": "stream",
          "name": "stdout",
          "text": [
            "2\n"
          ]
        }
      ]
    },
    {
      "cell_type": "markdown",
      "source": [
        "Mètode **.sum()**"
      ],
      "metadata": {
        "id": "xs_cixiVwz9M"
      }
    },
    {
      "cell_type": "markdown",
      "source": [
        "Suma el valor de tots els elements de la llista"
      ],
      "metadata": {
        "id": "rO4n2xNZw6Oi"
      }
    },
    {
      "cell_type": "code",
      "source": [
        "sum(a)"
      ],
      "metadata": {
        "colab": {
          "base_uri": "https://localhost:8080/"
        },
        "id": "YXP2H1b6wo5r",
        "outputId": "46d818ff-7aae-4fe1-eeff-129709cd8fcc"
      },
      "execution_count": null,
      "outputs": [
        {
          "output_type": "execute_result",
          "data": {
            "text/plain": [
              "26"
            ]
          },
          "metadata": {},
          "execution_count": 3
        }
      ]
    },
    {
      "cell_type": "markdown",
      "source": [
        "*Les utilitats que tenim a continuació no són mètodes. Així com els mètodes s'utilitzen fent llista.mètode(), les utilitats s'utilitzen fent utilitat(llista)*"
      ],
      "metadata": {
        "id": "eSXovhrgwFKL"
      }
    },
    {
      "cell_type": "markdown",
      "source": [
        "Utilitat **len()**\n",
        "\n",
        "Permet saber la longitud de la llista"
      ],
      "metadata": {
        "id": "lmRanTt8hY9C"
      }
    },
    {
      "cell_type": "code",
      "source": [
        "print(len(a))"
      ],
      "metadata": {
        "colab": {
          "base_uri": "https://localhost:8080/"
        },
        "id": "uDyJV7RYjfNG",
        "outputId": "9e5c3417-b09b-440d-c549-967920350077"
      },
      "execution_count": null,
      "outputs": [
        {
          "output_type": "stream",
          "name": "stdout",
          "text": [
            "6\n"
          ]
        }
      ]
    },
    {
      "cell_type": "markdown",
      "source": [
        "Utilitat **max()** i **min()**\n",
        "\n",
        "Retorna el valor màxim i mínim de la llista. Per a poder-lo utilitzar, la llista només ha de contenir valors numèrics."
      ],
      "metadata": {
        "id": "c6-3T_Xvv9KE"
      }
    },
    {
      "cell_type": "markdown",
      "source": [
        "## **Operadors sobre llistes**"
      ],
      "metadata": {
        "id": "6YgOtGsq_9eW"
      }
    },
    {
      "cell_type": "code",
      "source": [
        "a = [3,5,3]\n",
        "b = [2,3,6,4,7,8]"
      ],
      "metadata": {
        "id": "OdFu4LZkBf7v"
      },
      "execution_count": null,
      "outputs": []
    },
    {
      "cell_type": "markdown",
      "source": [
        "Reasignació o canvi de valors"
      ],
      "metadata": {
        "id": "YhsrhJd3ecEt"
      }
    },
    {
      "cell_type": "code",
      "source": [
        "a[3] = 10000"
      ],
      "metadata": {
        "id": "iIFeFfnTebHd"
      },
      "execution_count": null,
      "outputs": []
    },
    {
      "cell_type": "code",
      "source": [
        "a[4] = b[2]"
      ],
      "metadata": {
        "id": "DtayTHScewUP"
      },
      "execution_count": null,
      "outputs": []
    },
    {
      "cell_type": "markdown",
      "source": [
        "Creació d'una llista buida"
      ],
      "metadata": {
        "id": "dVadaDaKe3s8"
      }
    },
    {
      "cell_type": "code",
      "source": [
        "c = []"
      ],
      "metadata": {
        "id": "LAiSB_66e5tt"
      },
      "execution_count": null,
      "outputs": []
    },
    {
      "cell_type": "code",
      "source": [
        "c.append(a[5])\n",
        "print(c)"
      ],
      "metadata": {
        "colab": {
          "base_uri": "https://localhost:8080/"
        },
        "id": "96QYrLa9e78e",
        "outputId": "1788cff5-ce46-4e72-ac1d-d71aef361abd"
      },
      "execution_count": null,
      "outputs": [
        {
          "output_type": "stream",
          "name": "stdout",
          "text": [
            "[5, 5, 5]\n"
          ]
        }
      ]
    },
    {
      "cell_type": "markdown",
      "source": [
        "Operacions aritmètiques"
      ],
      "metadata": {
        "id": "G1hSoLhKecms"
      }
    },
    {
      "cell_type": "code",
      "source": [
        "print(a+b)"
      ],
      "metadata": {
        "id": "jScYNcnoBloj",
        "colab": {
          "base_uri": "https://localhost:8080/"
        },
        "outputId": "5e8d228e-c988-488f-9814-24ec67b55fa3"
      },
      "execution_count": null,
      "outputs": [
        {
          "output_type": "stream",
          "name": "stdout",
          "text": [
            "[3, 5, 3, 2, 3, 6]\n"
          ]
        }
      ]
    },
    {
      "cell_type": "code",
      "source": [
        "print(a-b)"
      ],
      "metadata": {
        "id": "eqNexcLVBoEu",
        "colab": {
          "base_uri": "https://localhost:8080/",
          "height": 175
        },
        "outputId": "5f4a50bf-4c7a-4530-9950-80d616fbd93f"
      },
      "execution_count": null,
      "outputs": [
        {
          "output_type": "error",
          "ename": "TypeError",
          "evalue": "unsupported operand type(s) for -: 'list' and 'list'",
          "traceback": [
            "\u001b[0;31m---------------------------------------------------------------------------\u001b[0m",
            "\u001b[0;31mTypeError\u001b[0m                                 Traceback (most recent call last)",
            "\u001b[0;32m<ipython-input-28-b6199382ecad>\u001b[0m in \u001b[0;36m<cell line: 1>\u001b[0;34m()\u001b[0m\n\u001b[0;32m----> 1\u001b[0;31m \u001b[0mprint\u001b[0m\u001b[0;34m(\u001b[0m\u001b[0ma\u001b[0m\u001b[0;34m-\u001b[0m\u001b[0mb\u001b[0m\u001b[0;34m)\u001b[0m\u001b[0;34m\u001b[0m\u001b[0;34m\u001b[0m\u001b[0m\n\u001b[0m",
            "\u001b[0;31mTypeError\u001b[0m: unsupported operand type(s) for -: 'list' and 'list'"
          ]
        }
      ]
    },
    {
      "cell_type": "code",
      "source": [
        "print(a*10)"
      ],
      "metadata": {
        "id": "pT1BA4shBoT2",
        "colab": {
          "base_uri": "https://localhost:8080/"
        },
        "outputId": "295ee277-b1d1-40ae-d491-45089dc2558b"
      },
      "execution_count": null,
      "outputs": [
        {
          "output_type": "stream",
          "name": "stdout",
          "text": [
            "[3, 5, 3, 3, 5, 3, 3, 5, 3, 3, 5, 3, 3, 5, 3, 3, 5, 3, 3, 5, 3, 3, 5, 3, 3, 5, 3, 3, 5, 3]\n"
          ]
        }
      ]
    },
    {
      "cell_type": "code",
      "source": [
        "print(a/b)"
      ],
      "metadata": {
        "id": "k3-jj7KZBodm",
        "colab": {
          "base_uri": "https://localhost:8080/",
          "height": 175
        },
        "outputId": "58e76bd8-8139-4554-8b36-674cdeb1ffc6"
      },
      "execution_count": null,
      "outputs": [
        {
          "output_type": "error",
          "ename": "TypeError",
          "evalue": "unsupported operand type(s) for /: 'list' and 'list'",
          "traceback": [
            "\u001b[0;31m---------------------------------------------------------------------------\u001b[0m",
            "\u001b[0;31mTypeError\u001b[0m                                 Traceback (most recent call last)",
            "\u001b[0;32m<ipython-input-32-b0b33af54914>\u001b[0m in \u001b[0;36m<cell line: 1>\u001b[0;34m()\u001b[0m\n\u001b[0;32m----> 1\u001b[0;31m \u001b[0mprint\u001b[0m\u001b[0;34m(\u001b[0m\u001b[0ma\u001b[0m\u001b[0;34m/\u001b[0m\u001b[0mb\u001b[0m\u001b[0;34m)\u001b[0m\u001b[0;34m\u001b[0m\u001b[0;34m\u001b[0m\u001b[0m\n\u001b[0m",
            "\u001b[0;31mTypeError\u001b[0m: unsupported operand type(s) for /: 'list' and 'list'"
          ]
        }
      ]
    },
    {
      "cell_type": "markdown",
      "source": [
        "Com podríem multiplicar l'element 2 de la llista a i l'element 4 de la llista b?"
      ],
      "metadata": {
        "id": "i1HGaF00Bpa4"
      }
    },
    {
      "cell_type": "code",
      "source": [
        "print(a[2]*b[4])"
      ],
      "metadata": {
        "colab": {
          "base_uri": "https://localhost:8080/"
        },
        "id": "bJuCLIP1oFI2",
        "outputId": "f97b299f-8743-4855-d8c6-e0ecee7daebd"
      },
      "execution_count": null,
      "outputs": [
        {
          "output_type": "stream",
          "name": "stdout",
          "text": [
            "21\n"
          ]
        }
      ]
    },
    {
      "cell_type": "code",
      "source": [
        "b.append(a[2])\n",
        "b"
      ],
      "metadata": {
        "id": "svKr1tYto5sT"
      },
      "execution_count": null,
      "outputs": []
    },
    {
      "cell_type": "markdown",
      "source": [
        "## **Iteracions  for**"
      ],
      "metadata": {
        "id": "ZQvLXV2JAKZu"
      }
    },
    {
      "cell_type": "markdown",
      "source": [
        "Mentre que al while la condició era avaluada en cada iteració per decidir si tornar a executar o no el codi, al for no existeix aquesta condició, sinó un iterable que defineix les vegades que s'executarà el codi. L'iterable és un element que té diferents posicions. Per nosaltres, de moment, un iterable és una llista."
      ],
      "metadata": {
        "id": "rZEJqjRGLDAI"
      }
    },
    {
      "cell_type": "markdown",
      "source": [
        "\n",
        "**Iteracions sobre llistes**"
      ],
      "metadata": {
        "id": "28vruuumOgD-"
      }
    },
    {
      "cell_type": "code",
      "source": [
        "llista_2 = [2,6,7,2,5,7,3,6,8,3]"
      ],
      "metadata": {
        "id": "cNyZn1-uaGT3"
      },
      "execution_count": null,
      "outputs": []
    },
    {
      "cell_type": "markdown",
      "source": [
        "La sintaxi per al bucle for és la següent:"
      ],
      "metadata": {
        "id": "AAXxcZh-MZAb"
      }
    },
    {
      "cell_type": "code",
      "source": [
        "i = 0\n",
        "for x in llista_2:\n",
        "\n",
        "  llista_2[i] = llista_2[i]+2\n",
        "  i=i+1\n",
        "\n",
        "print(llista_2)"
      ],
      "metadata": {
        "id": "4dhpraBLMsQj",
        "colab": {
          "base_uri": "https://localhost:8080/"
        },
        "outputId": "c4899ee5-fac4-4116-d220-be9d12b2e9d4"
      },
      "execution_count": null,
      "outputs": [
        {
          "output_type": "stream",
          "name": "stdout",
          "text": [
            "[4, 8, 9, 4, 7, 9, 5, 8, 10, 5]\n"
          ]
        }
      ]
    },
    {
      "cell_type": "markdown",
      "source": [
        "**Iteracions amb range()**\n"
      ],
      "metadata": {
        "id": "bVACiF99OleZ"
      }
    },
    {
      "cell_type": "markdown",
      "source": [
        "La utilitat range (min, max, step) ens proporciona una forma de fer iteracions sobre un nombre conegut d'elements utilitzant una 'passa' definida per a cada itearació. Si no especificam res, la 'passa' que ve per defecte és 1.\n",
        "\n",
        "És l'equivalent a fer: while x<max:"
      ],
      "metadata": {
        "id": "vs6UmqyvaS6O"
      }
    },
    {
      "cell_type": "markdown",
      "source": [
        "Quin tipus de variable retorna el range()?"
      ],
      "metadata": {
        "id": "YQZiuvwAb1r3"
      }
    },
    {
      "cell_type": "code",
      "source": [
        "print(type(range(6)))"
      ],
      "metadata": {
        "colab": {
          "base_uri": "https://localhost:8080/"
        },
        "id": "mH6-jt3uaRAO",
        "outputId": "5d95a807-e84d-4054-a520-efb7cf1cd6be"
      },
      "execution_count": null,
      "outputs": [
        {
          "output_type": "stream",
          "name": "stdout",
          "text": [
            "<class 'range'>\n"
          ]
        }
      ]
    },
    {
      "cell_type": "code",
      "source": [
        "llista=range(10)\n",
        "llista"
      ],
      "metadata": {
        "colab": {
          "base_uri": "https://localhost:8080/"
        },
        "id": "LXh6KqfUzeRo",
        "outputId": "1766c9d0-7df7-42e8-fa93-244b909e48a4"
      },
      "execution_count": null,
      "outputs": [
        {
          "output_type": "execute_result",
          "data": {
            "text/plain": [
              "range(0, 10)"
            ]
          },
          "metadata": {},
          "execution_count": 14
        }
      ]
    },
    {
      "cell_type": "markdown",
      "source": [
        "Podem, s'utilitza el range() per a iterar de la següent forma:"
      ],
      "metadata": {
        "id": "5eBf7S89b5zF"
      }
    },
    {
      "cell_type": "code",
      "source": [
        "i = 0\n",
        "for element in range(10):\n",
        "  x = 2*i\n",
        "  print(element, x)\n",
        "  i = i+1"
      ],
      "metadata": {
        "colab": {
          "base_uri": "https://localhost:8080/"
        },
        "id": "RLGvZPYEc9l-",
        "outputId": "e3d79e01-8f42-4276-db7d-59b0eec18f6d"
      },
      "execution_count": null,
      "outputs": [
        {
          "output_type": "stream",
          "name": "stdout",
          "text": [
            "0 0\n",
            "1 2\n",
            "2 4\n",
            "3 6\n",
            "4 8\n",
            "5 10\n",
            "6 12\n",
            "7 14\n",
            "8 16\n",
            "9 18\n"
          ]
        }
      ]
    },
    {
      "cell_type": "code",
      "source": [
        "for element in range(0,10,2):\n",
        "  print(element)"
      ],
      "metadata": {
        "colab": {
          "base_uri": "https://localhost:8080/"
        },
        "id": "mBW9pt5hyfAY",
        "outputId": "322831b9-aa0b-4355-fa93-6387003fdf4f"
      },
      "execution_count": null,
      "outputs": [
        {
          "output_type": "stream",
          "name": "stdout",
          "text": [
            "0\n",
            "2\n",
            "4\n",
            "6\n",
            "8\n"
          ]
        }
      ]
    },
    {
      "cell_type": "code",
      "source": [
        "for element in range(0,10,0.5):\n",
        "  print(element)"
      ],
      "metadata": {
        "colab": {
          "base_uri": "https://localhost:8080/",
          "height": 193
        },
        "id": "VwzNwuVPyrLB",
        "outputId": "4ec5ffa1-46e8-4ff6-f07d-03ac47b30084"
      },
      "execution_count": null,
      "outputs": [
        {
          "output_type": "error",
          "ename": "TypeError",
          "evalue": "'float' object cannot be interpreted as an integer",
          "traceback": [
            "\u001b[0;31m---------------------------------------------------------------------------\u001b[0m",
            "\u001b[0;31mTypeError\u001b[0m                                 Traceback (most recent call last)",
            "\u001b[0;32m<ipython-input-13-d4ac59593eb8>\u001b[0m in \u001b[0;36m<cell line: 1>\u001b[0;34m()\u001b[0m\n\u001b[0;32m----> 1\u001b[0;31m \u001b[0;32mfor\u001b[0m \u001b[0melement\u001b[0m \u001b[0;32min\u001b[0m \u001b[0mrange\u001b[0m\u001b[0;34m(\u001b[0m\u001b[0;36m0\u001b[0m\u001b[0;34m,\u001b[0m\u001b[0;36m10\u001b[0m\u001b[0;34m,\u001b[0m\u001b[0;36m0.5\u001b[0m\u001b[0;34m)\u001b[0m\u001b[0;34m:\u001b[0m\u001b[0;34m\u001b[0m\u001b[0;34m\u001b[0m\u001b[0m\n\u001b[0m\u001b[1;32m      2\u001b[0m   \u001b[0mprint\u001b[0m\u001b[0;34m(\u001b[0m\u001b[0melement\u001b[0m\u001b[0;34m)\u001b[0m\u001b[0;34m\u001b[0m\u001b[0;34m\u001b[0m\u001b[0m\n",
            "\u001b[0;31mTypeError\u001b[0m: 'float' object cannot be interpreted as an integer"
          ]
        }
      ]
    },
    {
      "cell_type": "markdown",
      "source": [
        "Quines diferències hi ha entre iterar sobre una llista o iterar amb el range()?"
      ],
      "metadata": {
        "id": "Ur4ikVPXdz_l"
      }
    },
    {
      "cell_type": "code",
      "source": [],
      "metadata": {
        "id": "DZygaMmydwpV"
      },
      "execution_count": null,
      "outputs": []
    },
    {
      "cell_type": "markdown",
      "source": [
        "## **Tuples**"
      ],
      "metadata": {
        "id": "GyfDlb21eCu8"
      }
    },
    {
      "cell_type": "markdown",
      "source": [
        "Són molt similars a les llistes, però amb dues diferències. Són immutables, la qual cosa significa que no poden ser modificades una vegada declarades, i en comptes d'inicialitzar-se amb claudàtors es fa amb ()."
      ],
      "metadata": {
        "id": "vK4-gVikeHnm"
      }
    },
    {
      "cell_type": "code",
      "source": [
        "x = (1, 2, 3, 3, 3, 2)\n",
        "print(x)\n",
        "print(type(x))"
      ],
      "metadata": {
        "id": "OdVXo49rglKs",
        "colab": {
          "base_uri": "https://localhost:8080/"
        },
        "outputId": "3c0f78af-d768-4d18-fafd-fefbcf084268"
      },
      "execution_count": null,
      "outputs": [
        {
          "output_type": "stream",
          "name": "stdout",
          "text": [
            "(1, 2, 3, 3, 3, 2)\n",
            "<class 'tuple'>\n"
          ]
        }
      ]
    },
    {
      "cell_type": "markdown",
      "source": [
        "Què significa que siguin inmutables?"
      ],
      "metadata": {
        "id": "m0RdxE26guZ8"
      }
    },
    {
      "cell_type": "code",
      "source": [
        "x.append(3)"
      ],
      "metadata": {
        "id": "X9GD6DGWg43j",
        "colab": {
          "base_uri": "https://localhost:8080/",
          "height": 175
        },
        "outputId": "b2a20b02-bef0-4658-cf42-fe711bcd4689"
      },
      "execution_count": null,
      "outputs": [
        {
          "output_type": "error",
          "ename": "AttributeError",
          "evalue": "'tuple' object has no attribute 'append'",
          "traceback": [
            "\u001b[0;31m---------------------------------------------------------------------------\u001b[0m",
            "\u001b[0;31mAttributeError\u001b[0m                            Traceback (most recent call last)",
            "\u001b[0;32m<ipython-input-2-5dc4c0c2dc0c>\u001b[0m in \u001b[0;36m<cell line: 1>\u001b[0;34m()\u001b[0m\n\u001b[0;32m----> 1\u001b[0;31m \u001b[0mx\u001b[0m\u001b[0;34m.\u001b[0m\u001b[0mappend\u001b[0m\u001b[0;34m(\u001b[0m\u001b[0;36m3\u001b[0m\u001b[0;34m)\u001b[0m\u001b[0;34m\u001b[0m\u001b[0;34m\u001b[0m\u001b[0m\n\u001b[0m",
            "\u001b[0;31mAttributeError\u001b[0m: 'tuple' object has no attribute 'append'"
          ]
        }
      ]
    },
    {
      "cell_type": "code",
      "source": [
        "x[2] = 6"
      ],
      "metadata": {
        "id": "MC5NaimQg66d",
        "colab": {
          "base_uri": "https://localhost:8080/",
          "height": 175
        },
        "outputId": "2aa55000-d8ae-4168-c57b-402f801fda5d"
      },
      "execution_count": null,
      "outputs": [
        {
          "output_type": "error",
          "ename": "TypeError",
          "evalue": "'tuple' object does not support item assignment",
          "traceback": [
            "\u001b[0;31m---------------------------------------------------------------------------\u001b[0m",
            "\u001b[0;31mTypeError\u001b[0m                                 Traceback (most recent call last)",
            "\u001b[0;32m<ipython-input-3-689d53aaba1e>\u001b[0m in \u001b[0;36m<cell line: 1>\u001b[0;34m()\u001b[0m\n\u001b[0;32m----> 1\u001b[0;31m \u001b[0mx\u001b[0m\u001b[0;34m[\u001b[0m\u001b[0;36m2\u001b[0m\u001b[0;34m]\u001b[0m \u001b[0;34m=\u001b[0m \u001b[0;36m6\u001b[0m\u001b[0;34m\u001b[0m\u001b[0;34m\u001b[0m\u001b[0m\n\u001b[0m",
            "\u001b[0;31mTypeError\u001b[0m: 'tuple' object does not support item assignment"
          ]
        }
      ]
    },
    {
      "cell_type": "markdown",
      "source": [
        "Es poden fer iteracions for amb les tuples? (És a dir, són les tuples iterables?)"
      ],
      "metadata": {
        "id": "Q4a0r2rqg-pL"
      }
    },
    {
      "cell_type": "code",
      "source": [
        "for i in x:\n",
        "  print(i)"
      ],
      "metadata": {
        "id": "w0YJG256hJd8",
        "colab": {
          "base_uri": "https://localhost:8080/"
        },
        "outputId": "2ac108ba-6e41-4ae7-fe7b-a58749f06518"
      },
      "execution_count": null,
      "outputs": [
        {
          "output_type": "stream",
          "name": "stdout",
          "text": [
            "1\n",
            "2\n",
            "3\n",
            "3\n",
            "3\n",
            "2\n"
          ]
        }
      ]
    },
    {
      "cell_type": "markdown",
      "source": [
        "**Mètodes count() i index()**"
      ],
      "metadata": {
        "id": "yIWaiEJtkXWC"
      }
    },
    {
      "cell_type": "markdown",
      "source": [
        "Mètode **.count (element)**\n",
        "\n",
        "Compta el nombre de vegades que apareix un element"
      ],
      "metadata": {
        "id": "42jBeyhjlyli"
      }
    },
    {
      "cell_type": "code",
      "source": [
        "print(x.count(3))"
      ],
      "metadata": {
        "colab": {
          "base_uri": "https://localhost:8080/"
        },
        "id": "k-uykM5fkd57",
        "outputId": "9a40bbd1-553f-4873-b6e4-1d16b6b60d6b"
      },
      "execution_count": null,
      "outputs": [
        {
          "output_type": "stream",
          "name": "stdout",
          "text": [
            "3\n"
          ]
        }
      ]
    },
    {
      "cell_type": "markdown",
      "source": [
        "Mètode **.index (element)**\n",
        "\n",
        "Retorna l'índex en el qual es troba l'element que li passam com a argument"
      ],
      "metadata": {
        "id": "2NGKV3BWl_m_"
      }
    },
    {
      "cell_type": "code",
      "source": [
        "print(x.index(3))"
      ],
      "metadata": {
        "colab": {
          "base_uri": "https://localhost:8080/"
        },
        "id": "tOBPcCMhmJiW",
        "outputId": "1ee21499-78be-4256-a582-bbf37f1190f1"
      },
      "execution_count": null,
      "outputs": [
        {
          "output_type": "stream",
          "name": "stdout",
          "text": [
            "2\n"
          ]
        }
      ]
    },
    {
      "cell_type": "markdown",
      "source": [
        "## **Utilització de cadenes de text com a tuples**"
      ],
      "metadata": {
        "id": "_QEBE0LHzTE_"
      }
    },
    {
      "cell_type": "markdown",
      "source": [
        "Una cadena de text (variables tipus string) són també iterables. Per tant, es poden utilitzar en les iteracions for."
      ],
      "metadata": {
        "id": "NBD6B502zc31"
      }
    },
    {
      "cell_type": "code",
      "source": [
        "paraula = 'espiadimonis'\n",
        "for i in paraula:\n",
        "  print(i, paraula.count(i))\n",
        "\n",
        "print('La paraula té',len(paraula), 'lletres')"
      ],
      "metadata": {
        "colab": {
          "base_uri": "https://localhost:8080/"
        },
        "id": "K1s2X0XszbXN",
        "outputId": "9a001305-f480-40cb-949c-686d42c16e93"
      },
      "execution_count": null,
      "outputs": [
        {
          "output_type": "stream",
          "name": "stdout",
          "text": [
            "e 1\n",
            "s 2\n",
            "p 1\n",
            "i 3\n",
            "a 1\n",
            "d 1\n",
            "i 3\n",
            "m 1\n",
            "o 1\n",
            "n 1\n",
            "i 3\n",
            "s 2\n",
            "La paraula té 12 lletres\n"
          ]
        }
      ]
    },
    {
      "cell_type": "markdown",
      "source": [
        "Ara bé, com que s'interpreten com a tuples, no es pot fer cap tipus de modificadió a les cadenes de text"
      ],
      "metadata": {
        "id": "NaCPTO5P5TcN"
      }
    },
    {
      "cell_type": "code",
      "source": [
        "paraula = 'espiadimonis'\n",
        "paraula.append(3)"
      ],
      "metadata": {
        "id": "qPTXaZ_h0hBK",
        "colab": {
          "base_uri": "https://localhost:8080/",
          "height": 193
        },
        "outputId": "70c24118-e39c-4583-fa6b-878b3fbef4e8"
      },
      "execution_count": null,
      "outputs": [
        {
          "output_type": "error",
          "ename": "AttributeError",
          "evalue": "'str' object has no attribute 'append'",
          "traceback": [
            "\u001b[0;31m---------------------------------------------------------------------------\u001b[0m",
            "\u001b[0;31mAttributeError\u001b[0m                            Traceback (most recent call last)",
            "\u001b[0;32m<ipython-input-5-2b335f400364>\u001b[0m in \u001b[0;36m<cell line: 2>\u001b[0;34m()\u001b[0m\n\u001b[1;32m      1\u001b[0m \u001b[0mparaula\u001b[0m \u001b[0;34m=\u001b[0m \u001b[0;34m'espiadimonis'\u001b[0m\u001b[0;34m\u001b[0m\u001b[0;34m\u001b[0m\u001b[0m\n\u001b[0;32m----> 2\u001b[0;31m \u001b[0mparaula\u001b[0m\u001b[0;34m.\u001b[0m\u001b[0mappend\u001b[0m\u001b[0;34m(\u001b[0m\u001b[0;36m3\u001b[0m\u001b[0;34m)\u001b[0m\u001b[0;34m\u001b[0m\u001b[0;34m\u001b[0m\u001b[0m\n\u001b[0m",
            "\u001b[0;31mAttributeError\u001b[0m: 'str' object has no attribute 'append'"
          ]
        }
      ]
    },
    {
      "cell_type": "code",
      "source": [
        "paraula.pop()\n",
        "paraula"
      ],
      "metadata": {
        "colab": {
          "base_uri": "https://localhost:8080/",
          "height": 193
        },
        "id": "l_nbI8e44OQ8",
        "outputId": "7dc1476d-0f7c-4b12-9570-dc80d8972acc"
      },
      "execution_count": null,
      "outputs": [
        {
          "output_type": "error",
          "ename": "AttributeError",
          "evalue": "'str' object has no attribute 'pop'",
          "traceback": [
            "\u001b[0;31m---------------------------------------------------------------------------\u001b[0m",
            "\u001b[0;31mAttributeError\u001b[0m                            Traceback (most recent call last)",
            "\u001b[0;32m<ipython-input-10-ef644e01d295>\u001b[0m in \u001b[0;36m<cell line: 1>\u001b[0;34m()\u001b[0m\n\u001b[0;32m----> 1\u001b[0;31m \u001b[0mparaula\u001b[0m\u001b[0;34m.\u001b[0m\u001b[0mpop\u001b[0m\u001b[0;34m(\u001b[0m\u001b[0;34m)\u001b[0m\u001b[0;34m\u001b[0m\u001b[0;34m\u001b[0m\u001b[0m\n\u001b[0m\u001b[1;32m      2\u001b[0m \u001b[0mparaula\u001b[0m\u001b[0;34m\u001b[0m\u001b[0;34m\u001b[0m\u001b[0m\n",
            "\u001b[0;31mAttributeError\u001b[0m: 'str' object has no attribute 'pop'"
          ]
        }
      ]
    },
    {
      "cell_type": "markdown",
      "source": [
        "Les cadenes de text, però, sí són indexables. És a dir, a cada caràcter de la cadena de text se li pot assignar un índex."
      ],
      "metadata": {
        "id": "m2v9XOWJ5bql"
      }
    },
    {
      "cell_type": "code",
      "source": [
        "paraula = 'espiadimonis'\n",
        "paraula[0:5]"
      ],
      "metadata": {
        "colab": {
          "base_uri": "https://localhost:8080/",
          "height": 35
        },
        "id": "bYMmoeU93FDG",
        "outputId": "79aa757f-fc57-4288-e5e5-2a33d6052f66"
      },
      "execution_count": null,
      "outputs": [
        {
          "output_type": "execute_result",
          "data": {
            "text/plain": [
              "'espia'"
            ],
            "application/vnd.google.colaboratory.intrinsic+json": {
              "type": "string"
            }
          },
          "metadata": {},
          "execution_count": 9
        }
      ]
    }
  ]
}