{
  "nbformat": 4,
  "nbformat_minor": 0,
  "metadata": {
    "colab": {
      "provenance": [],
      "collapsed_sections": [
        "1Pqok54MHcFH",
        "Z-dI5u4zJluf",
        "nb8GJ9_GK2Zf"
      ],
      "authorship_tag": "ABX9TyOeas6q6k5erdATRnmzkW6k"
    },
    "kernelspec": {
      "name": "python3",
      "display_name": "Python 3"
    },
    "language_info": {
      "name": "python"
    }
  },
  "cells": [
    {
      "cell_type": "markdown",
      "source": [
        "# **Definició de diccionaris**"
      ],
      "metadata": {
        "id": "9dZL4v2Bi_Sb"
      }
    },
    {
      "cell_type": "markdown",
      "source": [
        "Un diccionari és un element que ve definit per parelles de clau-valor. Hi ha tres formes de definir-los. La més utilitzada és la primera, mitjançant les parelles clau-valor separades per comes i utilitzant claudàtors {  }"
      ],
      "metadata": {
        "id": "WIytiCdGjKj8"
      }
    },
    {
      "cell_type": "code",
      "execution_count": null,
      "metadata": {
        "colab": {
          "base_uri": "https://localhost:8080/"
        },
        "id": "TX86ECFZi6bX",
        "outputId": "64763f22-7614-4859-8ef3-2a1498ed8346"
      },
      "outputs": [
        {
          "output_type": "stream",
          "name": "stdout",
          "text": [
            "{'Nom': 'Sara', 'Edat': 27, 'Document': 1003882}\n"
          ]
        }
      ],
      "source": [
        "d1 = {\n",
        "  \"Nom\": \"Sara\",\n",
        "  \"Edat\": 27,\n",
        "  \"Document\": 1003882\n",
        "}\n",
        "print(d1)"
      ]
    },
    {
      "cell_type": "code",
      "source": [
        "d1 = {}\n",
        "\n",
        "# Afegir els elements\n",
        "d1['Nom'] = \"Sara\"\n",
        "d1['Edat'] = 27\n",
        "d1['Document'] = 1003882\n",
        "\n",
        "d1"
      ],
      "metadata": {
        "colab": {
          "base_uri": "https://localhost:8080/"
        },
        "id": "DiIYVrawgfAc",
        "outputId": "39326313-0dc9-46b1-a66a-584e8774ccdf"
      },
      "execution_count": null,
      "outputs": [
        {
          "output_type": "execute_result",
          "data": {
            "text/plain": [
              "{'Nom': 'Sara', 'Edat': 27, 'Document': 1003882}"
            ]
          },
          "metadata": {},
          "execution_count": 4
        }
      ]
    },
    {
      "cell_type": "markdown",
      "source": [
        "Una altra forma de crear els diccionaris:"
      ],
      "metadata": {
        "id": "Q6lSnHwojrEc"
      }
    },
    {
      "cell_type": "code",
      "source": [
        "d1 = dict(Nom = 'Sara',\n",
        "          Edat = [1,2,3],\n",
        "          DNI = '8755649L')\n",
        "\n",
        "print(d1)"
      ],
      "metadata": {
        "id": "UkjuLXqAjuX7",
        "colab": {
          "base_uri": "https://localhost:8080/"
        },
        "outputId": "8c878ad8-4d88-4556-82db-001dcc49e2bf"
      },
      "execution_count": null,
      "outputs": [
        {
          "output_type": "stream",
          "name": "stdout",
          "text": [
            "{'Nom': 'Sara', 'Edat': [1, 2, 3], 'DNI': '8755649L'}\n"
          ]
        }
      ]
    },
    {
      "cell_type": "code",
      "source": [
        "d1 = {\n",
        "  Nom = \"Sara\",\n",
        "  Edat = 27,\n",
        "  Document= 1003882\n",
        "}"
      ],
      "metadata": {
        "id": "j62henPkkHB9",
        "colab": {
          "base_uri": "https://localhost:8080/",
          "height": 245
        },
        "outputId": "5e1e62c8-f52d-48b9-deda-24a87f545c61"
      },
      "execution_count": null,
      "outputs": [
        {
          "output_type": "error",
          "ename": "NameError",
          "evalue": "name 'Nom' is not defined",
          "traceback": [
            "\u001b[0;31m---------------------------------------------------------------------------\u001b[0m",
            "\u001b[0;31mNameError\u001b[0m                                 Traceback (most recent call last)",
            "\u001b[0;32m<ipython-input-3-2e1c84b4e1dc>\u001b[0m in \u001b[0;36m<cell line: 2>\u001b[0;34m()\u001b[0m\n\u001b[1;32m      1\u001b[0m d1 = {\n\u001b[0;32m----> 2\u001b[0;31m   \u001b[0mNom\u001b[0m \u001b[0;34m==\u001b[0m \u001b[0;34m\"Sara\"\u001b[0m\u001b[0;34m,\u001b[0m\u001b[0;34m\u001b[0m\u001b[0;34m\u001b[0m\u001b[0m\n\u001b[0m\u001b[1;32m      3\u001b[0m   \u001b[0mEdat\u001b[0m \u001b[0;34m==\u001b[0m \u001b[0;36m27\u001b[0m\u001b[0;34m,\u001b[0m\u001b[0;34m\u001b[0m\u001b[0;34m\u001b[0m\u001b[0m\n\u001b[1;32m      4\u001b[0m   \u001b[0mDocument\u001b[0m\u001b[0;34m==\u001b[0m \u001b[0;36m1003882\u001b[0m\u001b[0;34m\u001b[0m\u001b[0;34m\u001b[0m\u001b[0m\n\u001b[1;32m      5\u001b[0m }\n",
            "\u001b[0;31mNameError\u001b[0m: name 'Nom' is not defined"
          ]
        }
      ]
    },
    {
      "cell_type": "markdown",
      "source": [
        "**Propietats dels diccionaris**\n",
        "\n",
        "- Són dinàmics, poden créixer o decréixer, s'hi poden afegir o eliminar elements.\n",
        "- Són indexats, els elements del diccionari són accessibles a través de la clau.\n",
        "- Un diccionari pot contenir un altre diccionari al seu camp valor."
      ],
      "metadata": {
        "id": "sodho4bXHJjF"
      }
    },
    {
      "cell_type": "markdown",
      "source": [
        "# **Accés i modificació de diccionaris**"
      ],
      "metadata": {
        "id": "1Pqok54MHcFH"
      }
    },
    {
      "cell_type": "markdown",
      "source": [
        "Podem accedir als elements dels diccionaris a través de la seva clau i nutilitzant claudàtors: [   ]"
      ],
      "metadata": {
        "id": "99YfCm2uHmt0"
      }
    },
    {
      "cell_type": "code",
      "source": [
        "d1['Nom']"
      ],
      "metadata": {
        "id": "Q04_FPqtgTb1",
        "colab": {
          "base_uri": "https://localhost:8080/",
          "height": 35
        },
        "outputId": "f6d81ea2-efd7-4217-c809-f5a92be36e56"
      },
      "execution_count": null,
      "outputs": [
        {
          "output_type": "execute_result",
          "data": {
            "text/plain": [
              "'Sara'"
            ],
            "application/vnd.google.colaboratory.intrinsic+json": {
              "type": "string"
            }
          },
          "metadata": {},
          "execution_count": 3
        }
      ]
    },
    {
      "cell_type": "code",
      "source": [
        "print(d1['Nom'])"
      ],
      "metadata": {
        "colab": {
          "base_uri": "https://localhost:8080/"
        },
        "id": "OWMqwk9ZIKWX",
        "outputId": "eb658c2a-3b74-4c4b-e0e3-308c378dfe97"
      },
      "execution_count": null,
      "outputs": [
        {
          "output_type": "stream",
          "name": "stdout",
          "text": [
            "Sara\n"
          ]
        }
      ]
    },
    {
      "cell_type": "markdown",
      "source": [
        "Quin tipus de variable és si realitzam el print () o bé si únicament invocam l'element?"
      ],
      "metadata": {
        "id": "rB-fUrMkIJal"
      }
    },
    {
      "cell_type": "code",
      "source": [],
      "metadata": {
        "id": "ediflOfbIWV9"
      },
      "execution_count": null,
      "outputs": []
    },
    {
      "cell_type": "markdown",
      "source": [
        "També podem accedir a un element del diccionari mitjançant el mètode de diccionaris **.get()**"
      ],
      "metadata": {
        "id": "ZWJci22_IgN-"
      }
    },
    {
      "cell_type": "code",
      "source": [
        "d1.get('Nom')"
      ],
      "metadata": {
        "colab": {
          "base_uri": "https://localhost:8080/",
          "height": 35
        },
        "id": "mfn7rbT7IpV9",
        "outputId": "d7a18ec0-5cec-42a5-e8f4-f4f2d042e476"
      },
      "execution_count": null,
      "outputs": [
        {
          "output_type": "execute_result",
          "data": {
            "text/plain": [
              "'Sara'"
            ],
            "application/vnd.google.colaboratory.intrinsic+json": {
              "type": "string"
            }
          },
          "metadata": {},
          "execution_count": 5
        }
      ]
    },
    {
      "cell_type": "markdown",
      "source": [
        "**Modificació dels diccionaris**\n",
        "\n",
        "Per a fer la modificació dels valors que tenim al diccionari únicament hem d'assignar un nou valor a la clau que el conté"
      ],
      "metadata": {
        "id": "Yvu0LVE7IWsb"
      }
    },
    {
      "cell_type": "code",
      "source": [
        "d1['Nom'] = 'Alex'\n",
        "d1"
      ],
      "metadata": {
        "colab": {
          "base_uri": "https://localhost:8080/"
        },
        "id": "UEV-EobbJAvI",
        "outputId": "db133d17-e343-4479-a1e6-2cdc2d8dcb23"
      },
      "execution_count": null,
      "outputs": [
        {
          "output_type": "execute_result",
          "data": {
            "text/plain": [
              "{'Nom': 'Alex', 'Edat': 27, 'Document': 1003882}"
            ]
          },
          "metadata": {},
          "execution_count": 8
        }
      ]
    },
    {
      "cell_type": "markdown",
      "source": [
        "Per a introduïr una nova parella clau-valor a un diccionari ja creat es pot fer de forma directa"
      ],
      "metadata": {
        "id": "SFFpT6X_JKl3"
      }
    },
    {
      "cell_type": "code",
      "source": [
        "d1['Naixement'] = 'Pollença'\n",
        "d1"
      ],
      "metadata": {
        "colab": {
          "base_uri": "https://localhost:8080/"
        },
        "id": "WzPUW9e2JEpO",
        "outputId": "25ec6e0e-aa1a-4c48-ff62-c9fbf75841a0"
      },
      "execution_count": null,
      "outputs": [
        {
          "output_type": "execute_result",
          "data": {
            "text/plain": [
              "{'Nom': 'Alex', 'Edat': 27, 'Document': 1003882, 'Naixement': 'Pollença'}"
            ]
          },
          "metadata": {},
          "execution_count": 10
        }
      ]
    },
    {
      "cell_type": "markdown",
      "source": [
        "# **Iteracions de diccionaris**"
      ],
      "metadata": {
        "id": "Z-dI5u4zJluf"
      }
    },
    {
      "cell_type": "markdown",
      "source": [
        "Un diccionari és un iterable i, per tant, es pot iterar damunt el diccionari mitjançant un bucle **for**. Per fer aquesta iteració es considera el diccionari com una llista amb el nombre d'elements igual a les parelles clau-valor que inclou el diccionari"
      ],
      "metadata": {
        "id": "-3ZmVY-6JqlR"
      }
    },
    {
      "cell_type": "code",
      "source": [
        "len(d1)"
      ],
      "metadata": {
        "colab": {
          "base_uri": "https://localhost:8080/"
        },
        "id": "KHEyJob8KBro",
        "outputId": "be08661e-ff44-446d-d86a-91a07530f40e"
      },
      "execution_count": null,
      "outputs": [
        {
          "output_type": "execute_result",
          "data": {
            "text/plain": [
              "4"
            ]
          },
          "metadata": {},
          "execution_count": 11
        }
      ]
    },
    {
      "cell_type": "markdown",
      "source": [
        "El bucle for agafa les claus del diccionari per defecte:"
      ],
      "metadata": {
        "id": "faf-NT6cJ2Qu"
      }
    },
    {
      "cell_type": "code",
      "source": [
        "for x in d1:\n",
        "  print(x)"
      ],
      "metadata": {
        "colab": {
          "base_uri": "https://localhost:8080/"
        },
        "id": "rg_Eh9mOKImb",
        "outputId": "24b6c2ee-41f7-44a4-9be5-c0b898778eda"
      },
      "execution_count": null,
      "outputs": [
        {
          "output_type": "stream",
          "name": "stdout",
          "text": [
            "Nom\n",
            "Edat\n",
            "Document\n",
            "Naixement\n"
          ]
        }
      ]
    },
    {
      "cell_type": "markdown",
      "source": [
        "Si el que volem és seleccionar les claus del diccionari podem fer:"
      ],
      "metadata": {
        "id": "qG5UuBb5KM6C"
      }
    },
    {
      "cell_type": "code",
      "source": [
        "for x in d1:\n",
        "  print(d1[x])"
      ],
      "metadata": {
        "colab": {
          "base_uri": "https://localhost:8080/"
        },
        "id": "PB5IBd5eKYWy",
        "outputId": "738c8f9f-5c8e-4d1f-aa81-47a444f74273"
      },
      "execution_count": null,
      "outputs": [
        {
          "output_type": "stream",
          "name": "stdout",
          "text": [
            "Alex\n",
            "27\n",
            "1003882\n",
            "Pollença\n"
          ]
        }
      ]
    },
    {
      "cell_type": "markdown",
      "source": [
        "També podem obtenir les parelles clau-valor mitjançant una iteració for:"
      ],
      "metadata": {
        "id": "0vvz94TmKcqA"
      }
    },
    {
      "cell_type": "code",
      "source": [
        "for x in d1:\n",
        "  print(x,d1[x])"
      ],
      "metadata": {
        "colab": {
          "base_uri": "https://localhost:8080/"
        },
        "id": "_5brqYiWKhpG",
        "outputId": "455afded-426d-47e5-8600-d75dafb422f3"
      },
      "execution_count": null,
      "outputs": [
        {
          "output_type": "stream",
          "name": "stdout",
          "text": [
            "Nom Alex\n",
            "Edat 27\n",
            "Document 1003882\n",
            "Naixement Pollença\n"
          ]
        }
      ]
    },
    {
      "cell_type": "markdown",
      "source": [
        "# **Mètodes sobre diccionaris**"
      ],
      "metadata": {
        "id": "nb8GJ9_GK2Zf"
      }
    },
    {
      "cell_type": "markdown",
      "source": [
        "Mètode **.clear()**\n",
        "\n",
        "Elimina tot el contingut del diccionari"
      ],
      "metadata": {
        "id": "-FiVR62XLDxx"
      }
    },
    {
      "cell_type": "code",
      "source": [
        "d1.clear()\n",
        "d1"
      ],
      "metadata": {
        "id": "wRMZ-v7YLPos"
      },
      "execution_count": null,
      "outputs": []
    },
    {
      "cell_type": "markdown",
      "source": [
        "Mètode **.keys()**\n",
        "\n",
        "Retorna totes les claus incloses dins el diccionari."
      ],
      "metadata": {
        "id": "GLzOzdlTLa6O"
      }
    },
    {
      "cell_type": "code",
      "source": [
        "d1.keys()"
      ],
      "metadata": {
        "colab": {
          "base_uri": "https://localhost:8080/"
        },
        "id": "SbQ254zgK6E2",
        "outputId": "6b266f01-2d04-4476-e82a-d8414c8fc02a"
      },
      "execution_count": null,
      "outputs": [
        {
          "output_type": "execute_result",
          "data": {
            "text/plain": [
              "dict_keys(['Nom', 'Edat', 'Document', 'Naixement'])"
            ]
          },
          "metadata": {},
          "execution_count": 17
        }
      ]
    },
    {
      "cell_type": "markdown",
      "source": [
        "Mètode **.values()**\n",
        "\n",
        "Retorna tots els valors del diccionari."
      ],
      "metadata": {
        "id": "-JcyhX4ML943"
      }
    },
    {
      "cell_type": "code",
      "source": [
        "d1.values()"
      ],
      "metadata": {
        "colab": {
          "base_uri": "https://localhost:8080/"
        },
        "id": "BEIhnsrkMDd8",
        "outputId": "5f569cf9-b173-4956-e1de-d366986d0d1f"
      },
      "execution_count": null,
      "outputs": [
        {
          "output_type": "execute_result",
          "data": {
            "text/plain": [
              "dict_values(['Alex', 27, 1003882, 'Pollença'])"
            ]
          },
          "metadata": {},
          "execution_count": 19
        }
      ]
    },
    {
      "cell_type": "markdown",
      "source": [
        "Mètode **.items()**\n",
        "\n",
        "Retorna les parelles clau-valor ordenades com una llista de tuples."
      ],
      "metadata": {
        "id": "A4_HmgarLm63"
      }
    },
    {
      "cell_type": "code",
      "source": [
        "d1.items()"
      ],
      "metadata": {
        "colab": {
          "base_uri": "https://localhost:8080/"
        },
        "id": "W3EE0UvsLw5I",
        "outputId": "6728035d-67f3-4052-ec96-67cfe2cac648"
      },
      "execution_count": null,
      "outputs": [
        {
          "output_type": "execute_result",
          "data": {
            "text/plain": [
              "dict_items([('Nom', 'Alex'), ('Edat', 27), ('Document', 1003882), ('Naixement', 'Pollença')])"
            ]
          },
          "metadata": {},
          "execution_count": 18
        }
      ]
    },
    {
      "cell_type": "markdown",
      "source": [
        "Mètode **.pop(clau)**\n",
        "\n",
        "Elimina l'element corresponent a la clau 'clau' que passam com a argument."
      ],
      "metadata": {
        "id": "pAlX9CwyMGVb"
      }
    },
    {
      "cell_type": "code",
      "source": [
        "d1.pop('Naixement')\n",
        "d1"
      ],
      "metadata": {
        "colab": {
          "base_uri": "https://localhost:8080/"
        },
        "id": "Y0OIbmv1Msrl",
        "outputId": "aff0e896-bccc-4dfc-a0f1-36b021334826"
      },
      "execution_count": null,
      "outputs": [
        {
          "output_type": "execute_result",
          "data": {
            "text/plain": [
              "{'Nom': 'Alex', 'Edat': 27, 'Document': 1003882}"
            ]
          },
          "metadata": {},
          "execution_count": 20
        }
      ]
    },
    {
      "cell_type": "code",
      "source": [
        "d1.pop(27)\n",
        "d1"
      ],
      "metadata": {
        "colab": {
          "base_uri": "https://localhost:8080/",
          "height": 194
        },
        "id": "vxrzR3TdMzvh",
        "outputId": "ddeb5093-42f0-410f-8f60-ccb5f2a40bdc"
      },
      "execution_count": null,
      "outputs": [
        {
          "output_type": "error",
          "ename": "KeyError",
          "evalue": "27",
          "traceback": [
            "\u001b[0;31m---------------------------------------------------------------------------\u001b[0m",
            "\u001b[0;31mKeyError\u001b[0m                                  Traceback (most recent call last)",
            "\u001b[0;32m<ipython-input-21-0a5b4ca9ba7c>\u001b[0m in \u001b[0;36m<cell line: 1>\u001b[0;34m()\u001b[0m\n\u001b[0;32m----> 1\u001b[0;31m \u001b[0md1\u001b[0m\u001b[0;34m.\u001b[0m\u001b[0mpop\u001b[0m\u001b[0;34m(\u001b[0m\u001b[0;36m27\u001b[0m\u001b[0;34m)\u001b[0m\u001b[0;34m\u001b[0m\u001b[0;34m\u001b[0m\u001b[0m\n\u001b[0m\u001b[1;32m      2\u001b[0m \u001b[0md1\u001b[0m\u001b[0;34m\u001b[0m\u001b[0;34m\u001b[0m\u001b[0m\n",
            "\u001b[0;31mKeyError\u001b[0m: 27"
          ]
        }
      ]
    },
    {
      "cell_type": "markdown",
      "source": [
        "Mètode **.copy()**\n",
        "\n",
        "Serveix per fer còpies d'un diccionari quan no volem modificr l'original."
      ],
      "metadata": {
        "id": "ZCnHqf4HMw76"
      }
    },
    {
      "cell_type": "code",
      "source": [
        "d2 = d1.copy()\n",
        "d2"
      ],
      "metadata": {
        "colab": {
          "base_uri": "https://localhost:8080/"
        },
        "id": "nCXwxDvoM9gk",
        "outputId": "e78405fc-66ca-455a-f10d-a30555c9599b"
      },
      "execution_count": null,
      "outputs": [
        {
          "output_type": "execute_result",
          "data": {
            "text/plain": [
              "{'Nom': 'Alex', 'Edat': 27, 'Document': 1003882}"
            ]
          },
          "metadata": {},
          "execution_count": 22
        }
      ]
    },
    {
      "cell_type": "markdown",
      "source": [
        "Mètode **.update(diccionari2)**\n",
        "\n",
        "Introdueix un diccionari dins un altre que passam com a parelles clau-valor."
      ],
      "metadata": {
        "id": "kL9zI6PyNBfZ"
      }
    },
    {
      "cell_type": "code",
      "source": [
        "d3 = {\n",
        "    'Residència' : 'Alcúdia',\n",
        "    'ID' : 45\n",
        "}\n",
        "\n",
        "d1.update(d3)\n",
        "d1"
      ],
      "metadata": {
        "colab": {
          "base_uri": "https://localhost:8080/"
        },
        "id": "dOKt1txyNMkr",
        "outputId": "75061769-df6b-4484-deb0-307e0bd62c7d"
      },
      "execution_count": null,
      "outputs": [
        {
          "output_type": "execute_result",
          "data": {
            "text/plain": [
              "{'Nom': 'Alex',\n",
              " 'Edat': 27,\n",
              " 'Document': 1003882,\n",
              " 'Residència': 'Alcúdia',\n",
              " 'ID': 45}"
            ]
          },
          "metadata": {},
          "execution_count": 24
        }
      ]
    }
  ]
}